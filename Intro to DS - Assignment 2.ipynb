{
 "cells": [
  {
   "attachments": {},
   "cell_type": "markdown",
   "metadata": {},
   "source": [
    "Introduction to Data Science - Assignment 2\n",
    "By Marissa Beaty"
   ]
  },
  {
   "attachments": {},
   "cell_type": "markdown",
   "metadata": {},
   "source": [
    "Section 1"
   ]
  },
  {
   "cell_type": "code",
   "execution_count": 2,
   "metadata": {},
   "outputs": [],
   "source": [
    "import numpy as np \n",
    "import pandas as pd \n",
    "import matplotlib.pyplot as plt\n",
    "import statistics\n",
    "from scipy import stats\n",
    "from sklearn import preprocessing\n",
    "from sklearn import linear_model \n",
    "from sklearn.metrics import mean_squared_error, r2_score"
   ]
  },
  {
   "cell_type": "code",
   "execution_count": 3,
   "metadata": {},
   "outputs": [],
   "source": [
    "#Uploading the data\n",
    "dataset = pd.read_csv(\"Assignment_2_Dataset_Top_100_streamed.csv\")"
   ]
  },
  {
   "cell_type": "code",
   "execution_count": 4,
   "metadata": {},
   "outputs": [
    {
     "data": {
      "text/html": [
       "<div>\n",
       "<style scoped>\n",
       "    .dataframe tbody tr th:only-of-type {\n",
       "        vertical-align: middle;\n",
       "    }\n",
       "\n",
       "    .dataframe tbody tr th {\n",
       "        vertical-align: top;\n",
       "    }\n",
       "\n",
       "    .dataframe thead th {\n",
       "        text-align: right;\n",
       "    }\n",
       "</style>\n",
       "<table border=\"1\" class=\"dataframe\">\n",
       "  <thead>\n",
       "    <tr style=\"text-align: right;\">\n",
       "      <th></th>\n",
       "      <th>title</th>\n",
       "      <th>artist</th>\n",
       "      <th>top genre</th>\n",
       "      <th>year</th>\n",
       "      <th>beats.per.minute</th>\n",
       "      <th>energy</th>\n",
       "      <th>danceability</th>\n",
       "      <th>loudness.dB</th>\n",
       "      <th>liveness</th>\n",
       "      <th>valance</th>\n",
       "      <th>length</th>\n",
       "      <th>acousticness</th>\n",
       "      <th>speechiness</th>\n",
       "      <th>popularity</th>\n",
       "    </tr>\n",
       "  </thead>\n",
       "  <tbody>\n",
       "    <tr>\n",
       "      <th>0</th>\n",
       "      <td>Blinding Lights</td>\n",
       "      <td>The Weeknd</td>\n",
       "      <td>canadian contemporary r&amp;b</td>\n",
       "      <td>2020</td>\n",
       "      <td>171</td>\n",
       "      <td>73</td>\n",
       "      <td>51</td>\n",
       "      <td>-6</td>\n",
       "      <td>9</td>\n",
       "      <td>33</td>\n",
       "      <td>200</td>\n",
       "      <td>0</td>\n",
       "      <td>6</td>\n",
       "      <td>91</td>\n",
       "    </tr>\n",
       "    <tr>\n",
       "      <th>1</th>\n",
       "      <td>Watermelon Sugar</td>\n",
       "      <td>Harry Styles</td>\n",
       "      <td>pop</td>\n",
       "      <td>2019</td>\n",
       "      <td>95</td>\n",
       "      <td>82</td>\n",
       "      <td>55</td>\n",
       "      <td>-4</td>\n",
       "      <td>34</td>\n",
       "      <td>56</td>\n",
       "      <td>174</td>\n",
       "      <td>12</td>\n",
       "      <td>5</td>\n",
       "      <td>88</td>\n",
       "    </tr>\n",
       "    <tr>\n",
       "      <th>2</th>\n",
       "      <td>Mood (feat. iann dior)</td>\n",
       "      <td>24kGoldn</td>\n",
       "      <td>cali rap</td>\n",
       "      <td>2021</td>\n",
       "      <td>91</td>\n",
       "      <td>72</td>\n",
       "      <td>70</td>\n",
       "      <td>-4</td>\n",
       "      <td>32</td>\n",
       "      <td>73</td>\n",
       "      <td>141</td>\n",
       "      <td>17</td>\n",
       "      <td>4</td>\n",
       "      <td>88</td>\n",
       "    </tr>\n",
       "    <tr>\n",
       "      <th>3</th>\n",
       "      <td>Someone You Loved</td>\n",
       "      <td>Lewis Capaldi</td>\n",
       "      <td>pop</td>\n",
       "      <td>2019</td>\n",
       "      <td>110</td>\n",
       "      <td>41</td>\n",
       "      <td>50</td>\n",
       "      <td>-6</td>\n",
       "      <td>11</td>\n",
       "      <td>45</td>\n",
       "      <td>182</td>\n",
       "      <td>75</td>\n",
       "      <td>3</td>\n",
       "      <td>86</td>\n",
       "    </tr>\n",
       "    <tr>\n",
       "      <th>4</th>\n",
       "      <td>Perfect</td>\n",
       "      <td>Ed Sheeran</td>\n",
       "      <td>pop</td>\n",
       "      <td>2017</td>\n",
       "      <td>95</td>\n",
       "      <td>45</td>\n",
       "      <td>60</td>\n",
       "      <td>-6</td>\n",
       "      <td>11</td>\n",
       "      <td>17</td>\n",
       "      <td>263</td>\n",
       "      <td>16</td>\n",
       "      <td>2</td>\n",
       "      <td>86</td>\n",
       "    </tr>\n",
       "    <tr>\n",
       "      <th>5</th>\n",
       "      <td>Believer</td>\n",
       "      <td>Imagine Dragons</td>\n",
       "      <td>modern rock</td>\n",
       "      <td>2017</td>\n",
       "      <td>125</td>\n",
       "      <td>78</td>\n",
       "      <td>78</td>\n",
       "      <td>-4</td>\n",
       "      <td>8</td>\n",
       "      <td>67</td>\n",
       "      <td>204</td>\n",
       "      <td>6</td>\n",
       "      <td>13</td>\n",
       "      <td>86</td>\n",
       "    </tr>\n",
       "    <tr>\n",
       "      <th>6</th>\n",
       "      <td>lovely (with Khalid)</td>\n",
       "      <td>Billie Eilish</td>\n",
       "      <td>electropop</td>\n",
       "      <td>2018</td>\n",
       "      <td>115</td>\n",
       "      <td>30</td>\n",
       "      <td>35</td>\n",
       "      <td>-10</td>\n",
       "      <td>10</td>\n",
       "      <td>12</td>\n",
       "      <td>200</td>\n",
       "      <td>93</td>\n",
       "      <td>3</td>\n",
       "      <td>86</td>\n",
       "    </tr>\n",
       "    <tr>\n",
       "      <th>7</th>\n",
       "      <td>Circles</td>\n",
       "      <td>Post Malone</td>\n",
       "      <td>dfw rap</td>\n",
       "      <td>2019</td>\n",
       "      <td>120</td>\n",
       "      <td>76</td>\n",
       "      <td>70</td>\n",
       "      <td>-3</td>\n",
       "      <td>9</td>\n",
       "      <td>55</td>\n",
       "      <td>215</td>\n",
       "      <td>19</td>\n",
       "      <td>4</td>\n",
       "      <td>86</td>\n",
       "    </tr>\n",
       "    <tr>\n",
       "      <th>8</th>\n",
       "      <td>Shape of You</td>\n",
       "      <td>Ed Sheeran</td>\n",
       "      <td>pop</td>\n",
       "      <td>2017</td>\n",
       "      <td>96</td>\n",
       "      <td>65</td>\n",
       "      <td>83</td>\n",
       "      <td>-3</td>\n",
       "      <td>9</td>\n",
       "      <td>93</td>\n",
       "      <td>234</td>\n",
       "      <td>58</td>\n",
       "      <td>8</td>\n",
       "      <td>85</td>\n",
       "    </tr>\n",
       "    <tr>\n",
       "      <th>9</th>\n",
       "      <td>Memories</td>\n",
       "      <td>Maroon 5</td>\n",
       "      <td>pop</td>\n",
       "      <td>2021</td>\n",
       "      <td>91</td>\n",
       "      <td>33</td>\n",
       "      <td>78</td>\n",
       "      <td>-7</td>\n",
       "      <td>8</td>\n",
       "      <td>60</td>\n",
       "      <td>189</td>\n",
       "      <td>84</td>\n",
       "      <td>6</td>\n",
       "      <td>85</td>\n",
       "    </tr>\n",
       "  </tbody>\n",
       "</table>\n",
       "</div>"
      ],
      "text/plain": [
       "                    title           artist                  top genre  year  \\\n",
       "0         Blinding Lights       The Weeknd  canadian contemporary r&b  2020   \n",
       "1        Watermelon Sugar     Harry Styles                        pop  2019   \n",
       "2  Mood (feat. iann dior)         24kGoldn                   cali rap  2021   \n",
       "3       Someone You Loved    Lewis Capaldi                        pop  2019   \n",
       "4                 Perfect       Ed Sheeran                        pop  2017   \n",
       "5                Believer  Imagine Dragons                modern rock  2017   \n",
       "6    lovely (with Khalid)    Billie Eilish                 electropop  2018   \n",
       "7                 Circles      Post Malone                    dfw rap  2019   \n",
       "8            Shape of You       Ed Sheeran                        pop  2017   \n",
       "9                Memories         Maroon 5                        pop  2021   \n",
       "\n",
       "   beats.per.minute  energy  danceability  loudness.dB  liveness  valance  \\\n",
       "0               171      73            51           -6         9       33   \n",
       "1                95      82            55           -4        34       56   \n",
       "2                91      72            70           -4        32       73   \n",
       "3               110      41            50           -6        11       45   \n",
       "4                95      45            60           -6        11       17   \n",
       "5               125      78            78           -4         8       67   \n",
       "6               115      30            35          -10        10       12   \n",
       "7               120      76            70           -3         9       55   \n",
       "8                96      65            83           -3         9       93   \n",
       "9                91      33            78           -7         8       60   \n",
       "\n",
       "   length  acousticness  speechiness  popularity  \n",
       "0     200             0            6          91  \n",
       "1     174            12            5          88  \n",
       "2     141            17            4          88  \n",
       "3     182            75            3          86  \n",
       "4     263            16            2          86  \n",
       "5     204             6           13          86  \n",
       "6     200            93            3          86  \n",
       "7     215            19            4          86  \n",
       "8     234            58            8          85  \n",
       "9     189            84            6          85  "
      ]
     },
     "metadata": {},
     "output_type": "display_data"
    }
   ],
   "source": [
    "#showing the dataset\n",
    "display(dataset[:10])\n"
   ]
  },
  {
   "cell_type": "code",
   "execution_count": 4,
   "metadata": {},
   "outputs": [],
   "source": [
    "#Pulling the \"Beats per Minute\" and \"Danceability\" Column from the Dataset\n",
    "\n",
    "beats_per_min = dataset[\"beats.per.minute\"]\n",
    "danceability = dataset[\"danceability\"]"
   ]
  },
  {
   "attachments": {},
   "cell_type": "markdown",
   "metadata": {},
   "source": [
    "Summarize the data. Are there any outliers we need to clean up? \n",
    "\n",
    "The data we are looking at is a part of a larger dataset called \"Top 100 Streamed.\" This dataset lists numerical details of the Top 100 most streamed songs on Spotify. These numerical categories refer to beats per minute, danceability, length, valance, etc. Each category has a different scale that best encapsulates that category. For example, the numerical values in length are the number of seconds that song requires to go from the beginning to the end. This is different than something such as Energy or Valance, which are valued on a scale of 0 (being low or containing that quality in low quantities) and 100 (being high or containing that quality in high quantities). \n",
    "\n",
    "For this assignment, I will be looking more in depth at the Beats Per Minute and the Danceability columns to determine if there is a relationship between the two. Upon initial review, there do not appear to be any outliers that would skew the data, so I will move forward with analyzing the data and fitting the various models. "
   ]
  },
  {
   "cell_type": "code",
   "execution_count": 5,
   "metadata": {},
   "outputs": [
    {
     "name": "stdout",
     "output_type": "stream",
     "text": [
      "Beats per Minute minimum: \n",
      "71\n",
      "Beats per Minute maximum: \n",
      "186\n",
      "Beats per Minute median: \n",
      "115.0\n",
      "Beats per Minute mode: \n",
      "90\n",
      "Beats per Minute mean: \n",
      "116.97\n",
      "Beats per Minute range: \n",
      "115\n",
      "Beats per Minute standard deviation: \n",
      "27.470628943390693\n"
     ]
    }
   ],
   "source": [
    "#finding the means, mean, etc. i.e. representations of the data\n",
    "\n",
    "#Beats Per Minute\n",
    "BPM_min = beats_per_min.min()\n",
    "BPM_max = beats_per_min.max()\n",
    "BPM_median = beats_per_min.median()\n",
    "BPM_mode = statistics.mode(beats_per_min)\n",
    "BPM_mean = sum(beats_per_min) / len(beats_per_min)\n",
    "BPM_range = BPM_max - BPM_min\n",
    "BPM_STD = beats_per_min.std()\n",
    "\n",
    "print(\"Beats per Minute minimum: \")\n",
    "print(BPM_min)\n",
    "\n",
    "print(\"Beats per Minute maximum: \")\n",
    "print(BPM_max)\n",
    "\n",
    "print(\"Beats per Minute median: \")\n",
    "print(BPM_median)\n",
    "\n",
    "print(\"Beats per Minute mode: \")\n",
    "print(BPM_mode)\n",
    "\n",
    "print(\"Beats per Minute mean: \")\n",
    "print(BPM_mean)\n",
    "\n",
    "print(\"Beats per Minute range: \")\n",
    "print(BPM_range)\n",
    "\n",
    "print(\"Beats per Minute standard deviation: \")\n",
    "print(BPM_STD)"
   ]
  },
  {
   "cell_type": "code",
   "execution_count": 6,
   "metadata": {},
   "outputs": [
    {
     "name": "stdout",
     "output_type": "stream",
     "text": [
      "Danceability minimum: \n",
      "35\n",
      "Danceability maximum: \n",
      "91\n",
      "Danceability median: \n",
      "69.0\n",
      "Danceability mode: \n",
      "75\n",
      "Danceability mean: \n",
      "66.96\n",
      "Danceability range: \n",
      "56\n",
      "Danceability standard deviation: \n",
      "13.604010103976362\n"
     ]
    }
   ],
   "source": [
    "#Danceability\n",
    "dance_min = danceability.min()\n",
    "dance_max = danceability.max()\n",
    "dance_median = danceability.median()\n",
    "dance_mode = statistics.mode(danceability)\n",
    "dance_mean = sum(danceability) / len(danceability)\n",
    "dance_range = dance_max - dance_min\n",
    "dance_STD = danceability.std()\n",
    "\n",
    "print(\"Danceability minimum: \")\n",
    "print(dance_min)\n",
    "\n",
    "print(\"Danceability maximum: \")\n",
    "print(dance_max)\n",
    "\n",
    "print(\"Danceability median: \")\n",
    "print(dance_median)\n",
    "\n",
    "print(\"Danceability mode: \")\n",
    "print(dance_mode)\n",
    "\n",
    "print(\"Danceability mean: \")\n",
    "print(dance_mean)\n",
    "\n",
    "print(\"Danceability range: \")\n",
    "print(dance_range)\n",
    "\n",
    "print(\"Danceability standard deviation: \")\n",
    "print(dance_STD)"
   ]
  },
  {
   "attachments": {},
   "cell_type": "markdown",
   "metadata": {},
   "source": [
    "Section 2"
   ]
  },
  {
   "attachments": {},
   "cell_type": "markdown",
   "metadata": {},
   "source": [
    "Describe how the two categories above relate to each other. Are they correlated? How? Can we draw any conclusions from this?\n",
    "\n",
    "From what we have observed via the scatter plot, there does not appear to be a direct link between a song's Beats Per Minute and its Danceability. This is furthered when we applied the linear model to it, and again when calculating our R and P values. With an R value of 0.104, we can conclude that the relationship between these two is not statistically significant, and in fact, the two categories show little to no correlation. You can review the results of each of these tests by reviewing the next few cells. \n",
    "\n",
    " "
   ]
  },
  {
   "cell_type": "code",
   "execution_count": 11,
   "metadata": {},
   "outputs": [
    {
     "data": {
      "image/png": "[encoded data removed]",
      "text/plain": [
       "<Figure size 864x432 with 1 Axes>"
      ]
     },
     "metadata": {
      "needs_background": "light"
     },
     "output_type": "display_data"
    }
   ],
   "source": [
    "#plot the data - borrowed from Intro to DS Week 4 Notebook\n",
    "def scatter_plot(x,y,xlabel,ylabel):\n",
    "    fig, plot = plt.subplots(figsize = (12,6))\n",
    "    plot.scatter(x,y)\n",
    "    plot.set_ylabel(ylabel)\n",
    "    plot.set_xlabel(xlabel)\n",
    "    plot.ticklabel_format(style='plain')\n",
    "    return plot\n",
    "plot = scatter_plot(beats_per_min, danceability,\"Beats Per Minute\", \"Danceability\")\n"
   ]
  },
  {
   "attachments": {},
   "cell_type": "markdown",
   "metadata": {},
   "source": [
    "Section 3"
   ]
  },
  {
   "cell_type": "code",
   "execution_count": 12,
   "metadata": {},
   "outputs": [
    {
     "data": {
      "text/plain": [
       "[<matplotlib.lines.Line2D at 0x1667ee940>]"
      ]
     },
     "execution_count": 12,
     "metadata": {},
     "output_type": "execute_result"
    },
    {
     "data": {
      "image/png": "[encoded data removed]",
      "text/plain": [
       "<Figure size 864x432 with 1 Axes>"
      ]
     },
     "metadata": {
      "needs_background": "light"
     },
     "output_type": "display_data"
    }
   ],
   "source": [
    "#fit a linear model\n",
    "data = dataset[[\"beats.per.minute\", \"danceability\"]].values\n",
    "x = data[:,0]\n",
    "y = data[:,1]\n",
    "slope, intercept, r, p, std_err = stats.linregress(x, y)\n",
    "slope = np.float32(slope)\n",
    "model_y = [slope* i + intercept for i in x]\n",
    "\n",
    "data_plot = scatter_plot(x, y, \"Beats Per Minute\", \"Danceability\")\n",
    "data_plot.plot(x, model_y)"
   ]
  },
  {
   "cell_type": "code",
   "execution_count": 14,
   "metadata": {},
   "outputs": [
    {
     "data": {
      "text/plain": [
       "(0.05158528, 60.92606986234974)"
      ]
     },
     "execution_count": 14,
     "metadata": {},
     "output_type": "execute_result"
    }
   ],
   "source": [
    "slope, intercept"
   ]
  },
  {
   "cell_type": "code",
   "execution_count": 13,
   "metadata": {},
   "outputs": [
    {
     "name": "stdout",
     "output_type": "stream",
     "text": [
      "Coefficient of Determination: \n",
      "0.10416634947867236\n",
      "P-Value: \n",
      "0.3023644732774038\n"
     ]
    }
   ],
   "source": [
    "#finding the coefficients - borrowed from Week 4 \n",
    "r, p = stats.pearsonr(beats_per_min, danceability)\n",
    "print(\"Coefficient of Determination: \")\n",
    "print(r)\n",
    "\n",
    "print(\"P-Value: \")\n",
    "print(p)"
   ]
  },
  {
   "attachments": {},
   "cell_type": "markdown",
   "metadata": {},
   "source": [
    "Interpret the results, what can you tell about the variables from the model? Can you make any useful predictions?\n",
    "\n",
    "As mentioned above, the results of our model appear to show little to no correlation between the Beats Per Minute and Danceability. Our R value, which measures the relationship between two variables, was 0.104. Given that 1 is positively correlated, and 0 is showing no correlation, we can conclude that the two variables selected for these tests are not statistically significant to one another. This is further proven by our P-Value of 0.302, which again, tells us that the relationship between the two variables is not statistically significant, and thus, that the model itself is likely to do a poor job at predicting Danceability based on Beats Per Minute and vice versa. "
   ]
  },
  {
   "attachments": {},
   "cell_type": "markdown",
   "metadata": {},
   "source": [
    "Evaluate your model. How good is the fit?\n",
    "\n",
    "The model itself does not appear to be a very good fit. When looking at the linear model applied to the graph, this is quite evident. The data itself is not closely arranged to the line as one would expect, rather the line cuts through the graph almost halphazardly. This is reinforced by the R- and the P-values, which as detailed above show no statistically significant relationship between the two variables. For this reason, I would not say it is the models fault for not being a good fit, rather that the data itself is not correlated in a manner which any model would be able to represent. "
   ]
  },
  {
   "attachments": {},
   "cell_type": "markdown",
   "metadata": {},
   "source": [
    "Section 4"
   ]
  },
  {
   "cell_type": "code",
   "execution_count": 8,
   "metadata": {},
   "outputs": [
    {
     "name": "stdout",
     "output_type": "stream",
     "text": [
      "[0.03592138 0.29433074] 48.0505686456832 0.2310428769848869\n"
     ]
    }
   ],
   "source": [
    "#Pick at least one extra independent variable and fit a multiple regression model\n",
    "\n",
    "#third variable = valance, happiness\n",
    "data_x = dataset[[\"beats.per.minute\", \"valance\"]]\n",
    "data_y = dataset[\"danceability\"]\n",
    "\n",
    "\n",
    "#fitting a regression model - borrowed from Week 4 Regression Task\n",
    "#should I be plotting this? \n",
    "data_x = dataset[[\"beats.per.minute\", \"valance\"]]\n",
    "data_y = dataset[\"danceability\"] \n",
    "regr = linear_model.LinearRegression()\n",
    "regr.fit(data_x, data_y) \n",
    "print(regr.coef_, regr.intercept_,regr.score(data_x, data_y)) "
   ]
  },
  {
   "cell_type": "code",
   "execution_count": 11,
   "metadata": {},
   "outputs": [
    {
     "name": "stdout",
     "output_type": "stream",
     "text": [
      "[69.20399306]\n",
      "[67.6512908]\n"
     ]
    },
    {
     "name": "stderr",
     "output_type": "stream",
     "text": [
      "/opt/miniconda3/envs/AIM/lib/python3.9/site-packages/sklearn/base.py:450: UserWarning: X does not have valid feature names, but LinearRegression was fitted with feature names\n",
      "  warnings.warn(\n",
      "/opt/miniconda3/envs/AIM/lib/python3.9/site-packages/sklearn/base.py:450: UserWarning: X does not have valid feature names, but LinearRegression was fitted with feature names\n",
      "  warnings.warn(\n"
     ]
    }
   ],
   "source": [
    "#Predicting valance based on Beats Per Minute and Danceability\n",
    "\n",
    "print(regr.predict([[171,51]])) #should be a valence of 33\n",
    "print(regr.predict([[95,55]]))  #should be a valence of 56\n"
   ]
  },
  {
   "attachments": {},
   "cell_type": "markdown",
   "metadata": {},
   "source": [
    "What can you tell about the variables from the model? Can you make useful predictions?\n",
    "\n",
    "In order to test the accuracy of my model's predictive qualities, I ran the prediction model using the Beats Per Minute and Danceability of my datasets first and second entries. This way, I could confirm whether the predictive valance was near to the actual valance. As shown above, the predictive valance was in no way close to the actual valance, leaving me to conclude that the regression model used cannot make useful predictions, at least not given the variables provided. "
   ]
  },
  {
   "attachments": {},
   "cell_type": "markdown",
   "metadata": {},
   "source": [
    "Section 5"
   ]
  },
  {
   "attachments": {},
   "cell_type": "markdown",
   "metadata": {},
   "source": [
    "What ethical issues may arise from using these models to make predictions?\n",
    "\n",
    "When using these models, it is important to consider other factors that may have caused the results or other variables which may be correlated, despite what is represented not being so. For this example, just because the two selected variables are not correlated does not mean that others are not, or that others have not influenced that correlation (or lack thereof). I would propose that anyone wanting to use these models should do so, as they are great visualizations for modeling two variables, but should maintain the critique as to what is being left out of these models. Similarly, when using these models to make predictions, it should especially be remembered what data is included and what data is left out. For my dataset, each song has 10 categories describing the song beyond it's year, genre, and title. Each of these categories is a part of the song's datapoint, yet, when we predict, we do so with only a handful of categories. We are not seeing the full picture. "
   ]
  },
  {
   "attachments": {},
   "cell_type": "markdown",
   "metadata": {},
   "source": [
    "What extra data (more variables, better variables) would improve your current models, or allow you to make better, different models? \n",
    "\n",
    "It would be a useful exercise to test models on the relationships of alternate variables. Though Beats Per Minute and Danceability are not correlated, perhaps Length and Danceability are, or Danceability and Energy are? I was most interested in what affects a songs danceability. Having tested this model on each aspect of the top 100 songs, perhaps a more useful representation or even a correlated set of variables would be made visible. Only after testing models on each of those relationships, would I be satisfied to admit danceability is not a mappable (or predictable) measure of a popular song. It would also be useful to try fitting more complex models beyond a linear model (such as a polynomial model) to these variables to see whether that would be of more representative of the data. I believe both approaches would be useful to better understanding and modelling the data. "
   ]
  }
 ],
 "metadata": {
  "kernelspec": {
   "display_name": "Python 3",
   "language": "python",
   "name": "python3"
  },
  "language_info": {
   "codemirror_mode": {
    "name": "ipython",
    "version": 3
   },
   "file_extension": ".py",
   "mimetype": "text/x-python",
   "name": "python",
   "nbconvert_exporter": "python",
   "pygments_lexer": "ipython3",
   "version": "3.9.13"
  },
  "orig_nbformat": 4,
  "vscode": {
   "interpreter": {
    "hash": "05aa552c7d7658e2167e00b3eafb271c02ebfc9b6405c32b454575423e68a7f2"
   }
  }
 },
 "nbformat": 4,
 "nbformat_minor": 2
}
